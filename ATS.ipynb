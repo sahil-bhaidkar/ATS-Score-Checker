{
 "cells": [
  {
   "cell_type": "markdown",
   "metadata": {},
   "source": [
    "Importing Required Libraries :"
   ]
  },
  {
   "cell_type": "code",
   "execution_count": 1,
   "metadata": {},
   "outputs": [],
   "source": [
    "! pip install spacy -q"
   ]
  },
  {
   "cell_type": "code",
   "execution_count": 2,
   "metadata": {},
   "outputs": [],
   "source": [
    "import spacy\n",
    "import fitz  # PyMuPDF"
   ]
  },
  {
   "cell_type": "code",
   "execution_count": 3,
   "metadata": {},
   "outputs": [],
   "source": [
    "# Load English tokenizer, tagger, parser, and NER\n",
    "nlp = spacy.load(\"en_core_web_sm\")"
   ]
  },
  {
   "cell_type": "code",
   "execution_count": 4,
   "metadata": {},
   "outputs": [],
   "source": [
    "def extract_text_from_pdf(pdf_path):\n",
    "    text = \"\"\n",
    "    with fitz.open(pdf_path) as doc:\n",
    "        for page in doc:\n",
    "            text += page.get_text()\n",
    "    return text\n"
   ]
  },
  {
   "cell_type": "code",
   "execution_count": 5,
   "metadata": {},
   "outputs": [],
   "source": [
    "def calculate_ats_score(job_description, resume):\n",
    "    # Process job description and resume\n",
    "    job_doc = nlp(job_description.lower())\n",
    "    resume_doc = nlp(resume.lower())\n",
    "\n",
    "    # Extract nouns and adjectives from job description\n",
    "    job_keywords = [token.text for token in job_doc if token.pos_ in {\"NOUN\", \"ADJ\"}]\n",
    "\n",
    "    # Calculate score based on keyword matches\n",
    "    score = 0\n",
    "    for keyword in job_keywords:\n",
    "        if keyword in resume_doc.text:\n",
    "            score += 1\n",
    "\n",
    "    # Normalize score\n",
    "    max_score = len(job_keywords)\n",
    "    normalized_score = (score / max_score) * 100\n",
    "    return normalized_score"
   ]
  },
  {
   "cell_type": "code",
   "execution_count": 6,
   "metadata": {},
   "outputs": [],
   "source": [
    "def main():\n",
    "    # Prompt user to input job description file path\n",
    "    job_description_path = input(\"Enter the path to the job description file (PDF or TXT): \")\n",
    "    if job_description_path.lower().endswith(\".pdf\"):\n",
    "        job_description = extract_text_from_pdf(job_description_path)\n",
    "    elif job_description_path.lower().endswith(\".txt\"):\n",
    "        with open(job_description_path, \"r\") as file:\n",
    "            job_description = file.read()\n",
    "    else:\n",
    "        print(\"Invalid file format. Please provide either a PDF or TXT file.\")\n",
    "        return\n",
    "\n",
    "    # Prompt user to input resume file path\n",
    "    resume_path = input(\"Enter the path to your resume file (PDF): \")\n",
    "    if not resume_path.lower().endswith(\".pdf\"):\n",
    "        print(\"Invalid file format. Please provide a PDF file.\")\n",
    "        return\n",
    "    resume_text = extract_text_from_pdf(resume_path)\n",
    "    \n",
    "    # Calculate ATS score\n",
    "    ats_score = calculate_ats_score(job_description, resume_text)\n",
    "    \n",
    "    # Print ATS score\n",
    "    print(f\"Your ATS score is: {ats_score:.2f}%\")"
   ]
  },
  {
   "cell_type": "code",
   "execution_count": 7,
   "metadata": {},
   "outputs": [
    {
     "name": "stdout",
     "output_type": "stream",
     "text": [
      "Invalid file format. Please provide a PDF file.\n"
     ]
    }
   ],
   "source": [
    "main()"
   ]
  }
 ],
 "metadata": {
  "kernelspec": {
   "display_name": "Python 3",
   "language": "python",
   "name": "python3"
  },
  "language_info": {
   "codemirror_mode": {
    "name": "ipython",
    "version": 3
   },
   "file_extension": ".py",
   "mimetype": "text/x-python",
   "name": "python",
   "nbconvert_exporter": "python",
   "pygments_lexer": "ipython3",
   "version": "3.12.3"
  }
 },
 "nbformat": 4,
 "nbformat_minor": 2
}
