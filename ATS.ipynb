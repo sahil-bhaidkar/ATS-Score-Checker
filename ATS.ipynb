{
 "cells": [
  {
   "cell_type": "markdown",
   "metadata": {},
   "source": [
    "Importing Required Libraries :"
   ]
  },
  {
   "cell_type": "code",
   "execution_count": 1,
   "metadata": {},
   "outputs": [],
   "source": [
    "! pip install spacy -q"
   ]
  },
  {
   "cell_type": "code",
   "execution_count": 2,
   "metadata": {},
   "outputs": [],
   "source": [
    "import spacy\n",
    "import nlp"
   ]
  },
  {
   "cell_type": "code",
   "execution_count": 8,
   "metadata": {},
   "outputs": [],
   "source": [
    "# Load English tokenizer, tagger, parser, and NER\n",
    "nlp = spacy.load(\"en_core_web_sm\")"
   ]
  },
  {
   "cell_type": "code",
   "execution_count": 9,
   "metadata": {},
   "outputs": [],
   "source": [
    "def calculate_ats_score(job_description, resume):\n",
    "    # Process job description and resume\n",
    "    job_doc = nlp(job_description.lower())\n",
    "    resume_doc = nlp(resume.lower())\n",
    "\n",
    "    # Extract nouns and adjectives from job description\n",
    "    job_keywords = [token.text for token in job_doc if token.pos_ in {\"NOUN\", \"ADJ\"}]\n",
    "\n",
    "    # Calculate score based on keyword matches\n",
    "    score = 0\n",
    "    for keyword in job_keywords:\n",
    "        if keyword in resume_doc.text:\n",
    "            score += 1\n",
    "\n",
    "    # Normalize score\n",
    "    max_score = len(job_keywords)\n",
    "    normalized_score = (score / max_score) * 100\n",
    "    return normalized_score\n"
   ]
  },
  {
   "cell_type": "code",
   "execution_count": 10,
   "metadata": {},
   "outputs": [
    {
     "name": "stdout",
     "output_type": "stream",
     "text": [
      "Your ATS score is: 100.00%\n"
     ]
    }
   ],
   "source": [
    "def main():\n",
    "    # Prompt user to input job description and resume\n",
    "    job_description = input(\"Enter the job description: \")\n",
    "    resume = input(\"Enter your resume: \")\n",
    "    \n",
    "    # Calculate ATS score\n",
    "    ats_score = calculate_ats_score(job_description, resume)\n",
    "    \n",
    "    # Print ATS score\n",
    "    print(f\"Your ATS score is: {ats_score:.2f}%\")\n",
    "\n",
    "if __name__ == \"__main__\":\n",
    "    main()\n"
   ]
  },
  {
   "cell_type": "code",
   "execution_count": null,
   "metadata": {},
   "outputs": [],
   "source": []
  }
 ],
 "metadata": {
  "kernelspec": {
   "display_name": "Python 3",
   "language": "python",
   "name": "python3"
  },
  "language_info": {
   "codemirror_mode": {
    "name": "ipython",
    "version": 3
   },
   "file_extension": ".py",
   "mimetype": "text/x-python",
   "name": "python",
   "nbconvert_exporter": "python",
   "pygments_lexer": "ipython3",
   "version": "3.12.3"
  }
 },
 "nbformat": 4,
 "nbformat_minor": 2
}
